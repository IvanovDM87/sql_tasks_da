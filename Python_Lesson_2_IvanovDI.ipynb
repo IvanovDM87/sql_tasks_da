{
 "cells": [
  {
   "cell_type": "code",
   "execution_count": 84,
   "metadata": {},
   "outputs": [],
   "source": [
    "import requests\n",
    "import json\n",
    "from tqdm.auto import tqdm\n",
    "import pandas as pd\n",
    "import numpy as np\n",
    "from pylab import rcParams\n",
    "import matplotlib.pyplot as plt\n",
    "from collections import defaultdict\n",
    "import datetime\n",
    "import csv"
   ]
  },
  {
   "cell_type": "code",
   "execution_count": 59,
   "metadata": {},
   "outputs": [],
   "source": [
    "sber = '3529'\n",
    "page = 100\n",
    "num_per_page = 100\n",
    "moscow = 1\n",
    "url = f'https://api.hh.ru/vacancies?employer_id={sber}&per_page={num_per_page}'"
   ]
  },
  {
   "cell_type": "code",
   "execution_count": 60,
   "metadata": {},
   "outputs": [
    {
     "data": {
      "text/plain": [
       "20"
      ]
     },
     "execution_count": 60,
     "metadata": {},
     "output_type": "execute_result"
    }
   ],
   "source": [
    "res = requests.get(url)\n",
    "vacancies = res.json()\n",
    "num_pages = vacancies.get('pages')\n",
    "num_pages"
   ]
  },
  {
   "cell_type": "code",
   "execution_count": 61,
   "metadata": {},
   "outputs": [
    {
     "data": {
      "application/vnd.jupyter.widget-view+json": {
       "model_id": "932557ef997647efbc3b876c8a02bf48",
       "version_major": 2,
       "version_minor": 0
      },
      "text/plain": [
       "  0%|          | 0/20 [00:00<?, ?it/s]"
      ]
     },
     "metadata": {},
     "output_type": "display_data"
    }
   ],
   "source": [
    "all_vacancy_ids= []\n",
    "for i in tqdm(range(vacancies.get('pages'))):\n",
    "    url = f'https://api.hh.ru/vacancies?employer_id={sber}&page={i}&per_page={num_per_page}&area={moscow}'\n",
    "    res = requests.get(url)\n",
    "    vacancies = res.json()\n",
    "    vacancy_ids = [el.get('id') for el in vacancies.get('items')]\n",
    "    all_vacancy_ids.extend(vacancy_ids)"
   ]
  },
  {
   "cell_type": "code",
   "execution_count": 126,
   "metadata": {},
   "outputs": [],
   "source": [
    "# Задание вытащить все вакансии СБЕРа с ХХ (у апи есть ограничение в 2000, подумайте как его обойти)\n",
    "# Вытащите все полные описания этих вакансий по запросу с https://api.hh.ru/vacancies/43326020 где 43326020 id вакансии\n",
    "# Создайте аналогичный vacancy DataFrame только добавьте поле skills\n",
    "# Переведите даты публикаций в datetime\n",
    "# Постройте график опубликованных вакансий по датам\n",
    "# Переведите даты в дни недели, и определите день недели, в который больше всего публикуют вакансий\n",
    "# Найдите те вакансии с использованием python, которые вам интересны\n",
    "# Определите по полю skills какие навыки больше всего востребованы для этих вакансий, и\n",
    "# Постройте график наиболее востребованных вакансий"
   ]
  },
  {
   "cell_type": "code",
   "execution_count": 62,
   "metadata": {
    "scrolled": true
   },
   "outputs": [
    {
     "data": {
      "text/plain": [
       "978"
      ]
     },
     "execution_count": 62,
     "metadata": {},
     "output_type": "execute_result"
    }
   ],
   "source": [
    "len(all_vacancy_ids)"
   ]
  },
  {
   "cell_type": "code",
   "execution_count": 63,
   "metadata": {},
   "outputs": [],
   "source": [
    "vac_id = 43326020\n",
    "url = f'https://api.hh.ru/vacancies/{vac_id}'\n",
    "res = requests.get(url)\n",
    "vacancy = res.json()"
   ]
  },
  {
   "cell_type": "code",
   "execution_count": 64,
   "metadata": {},
   "outputs": [],
   "source": [
    "from collections import defaultdict\n",
    "tab_dict2 = defaultdict(list)"
   ]
  },
  {
   "cell_type": "code",
   "execution_count": 65,
   "metadata": {},
   "outputs": [
    {
     "data": {
      "application/vnd.jupyter.widget-view+json": {
       "model_id": "1a62ce8326d440f0b4ecbf960b7ca092",
       "version_major": 2,
       "version_minor": 0
      },
      "text/plain": [
       "  0%|          | 0/978 [00:00<?, ?it/s]"
      ]
     },
     "metadata": {},
     "output_type": "display_data"
    }
   ],
   "source": [
    "for vac_id in tqdm(all_vacancy_ids):\n",
    "    url = f'https://api.hh.ru/vacancies/{vac_id}'\n",
    "    res = requests.get(url)\n",
    "    vacancy = res.json()\n",
    "    tab_dict2['id'].append(vacancy.get('id'))\n",
    "    tab_dict2['name'].append(vacancy.get('name'))\n",
    "    tab_dict2['published_at'].append(vacancy.get('published_at'))\n",
    "    tab_dict2['description'].append(vacancy.get('description'))\n",
    "    skills = ','.join([x.get('name') for x in vacancy.get('key_skills')])\n",
    "    tab_dict2['key_skills'].append(skills)"
   ]
  },
  {
   "cell_type": "code",
   "execution_count": 72,
   "metadata": {},
   "outputs": [
    {
     "data": {
      "text/html": [
       "<div>\n",
       "<style scoped>\n",
       "    .dataframe tbody tr th:only-of-type {\n",
       "        vertical-align: middle;\n",
       "    }\n",
       "\n",
       "    .dataframe tbody tr th {\n",
       "        vertical-align: top;\n",
       "    }\n",
       "\n",
       "    .dataframe thead th {\n",
       "        text-align: right;\n",
       "    }\n",
       "</style>\n",
       "<table border=\"1\" class=\"dataframe\">\n",
       "  <thead>\n",
       "    <tr style=\"text-align: right;\">\n",
       "      <th></th>\n",
       "      <th>id</th>\n",
       "      <th>name</th>\n",
       "      <th>published_at</th>\n",
       "      <th>description</th>\n",
       "      <th>key_skills</th>\n",
       "    </tr>\n",
       "  </thead>\n",
       "  <tbody>\n",
       "    <tr>\n",
       "      <th>0</th>\n",
       "      <td>54162408</td>\n",
       "      <td>Стажёр по направлению \"Data Engineering\" от SB...</td>\n",
       "      <td>2022-03-21T16:08:01+0300</td>\n",
       "      <td>&lt;p&gt;Современный стек разработки, передовые техн...</td>\n",
       "      <td>Python,SQL,СУБД,MS Excel,Git,Анализ данных</td>\n",
       "    </tr>\n",
       "    <tr>\n",
       "      <th>1</th>\n",
       "      <td>53568652</td>\n",
       "      <td>Менеджер по обслуживанию</td>\n",
       "      <td>2022-03-09T13:38:12+0300</td>\n",
       "      <td>&lt;p&gt;Сбер — лучший работодатель России. У нас бо...</td>\n",
       "      <td></td>\n",
       "    </tr>\n",
       "    <tr>\n",
       "      <th>2</th>\n",
       "      <td>46380141</td>\n",
       "      <td>Менеджер по работе с клиентами</td>\n",
       "      <td>2022-03-18T14:30:24+0300</td>\n",
       "      <td>&lt;p&gt;Сбер — лучший работодатель России. У нас бо...</td>\n",
       "      <td>Активные продажи,Поиск и привлечение клиентов</td>\n",
       "    </tr>\n",
       "  </tbody>\n",
       "</table>\n",
       "</div>"
      ],
      "text/plain": [
       "         id                                               name  \\\n",
       "0  54162408  Стажёр по направлению \"Data Engineering\" от SB...   \n",
       "1  53568652                           Менеджер по обслуживанию   \n",
       "2  46380141                     Менеджер по работе с клиентами   \n",
       "\n",
       "               published_at  \\\n",
       "0  2022-03-21T16:08:01+0300   \n",
       "1  2022-03-09T13:38:12+0300   \n",
       "2  2022-03-18T14:30:24+0300   \n",
       "\n",
       "                                         description  \\\n",
       "0  <p>Современный стек разработки, передовые техн...   \n",
       "1  <p>Сбер — лучший работодатель России. У нас бо...   \n",
       "2  <p>Сбер — лучший работодатель России. У нас бо...   \n",
       "\n",
       "                                      key_skills  \n",
       "0     Python,SQL,СУБД,MS Excel,Git,Анализ данных  \n",
       "1                                                 \n",
       "2  Активные продажи,Поиск и привлечение клиентов  "
      ]
     },
     "execution_count": 72,
     "metadata": {},
     "output_type": "execute_result"
    }
   ],
   "source": [
    "df_1 = pd.DataFrame(tab_dict2)\n",
    "df_1.head(3)"
   ]
  },
  {
   "cell_type": "markdown",
   "metadata": {},
   "source": [
    "# 2. Вытащите все полные описания этих вакансий по запросу с https://api.hh.ru/vacancies/43326020 где 43326020 id вакансии"
   ]
  },
  {
   "cell_type": "code",
   "execution_count": 70,
   "metadata": {},
   "outputs": [
    {
     "data": {
      "text/plain": [
       "0      <p>Современный стек разработки, передовые техн...\n",
       "1      <p>Сбер — лучший работодатель России. У нас бо...\n",
       "2      <p>Сбер — лучший работодатель России. У нас бо...\n",
       "3      <p>Проект представляет собой систему для выгру...\n",
       "4      <p>Сбер — лучший работодатель России. У нас бо...\n",
       "                             ...                        \n",
       "973    <p>Мы делаем новую систему авторизации сотрудн...\n",
       "974    <p>В дивизион &quot;Развитие внешнеэкономическ...\n",
       "975    <p>В Отдел сопровождения депозитарных операций...\n",
       "976    <p>HR-платформа СБЕРа - собственный продукт ко...\n",
       "977    <p>Мы создаем команду для разработки продукта ...\n",
       "Name: description, Length: 978, dtype: object"
      ]
     },
     "execution_count": 70,
     "metadata": {},
     "output_type": "execute_result"
    }
   ],
   "source": [
    "df_1.description"
   ]
  },
  {
   "cell_type": "markdown",
   "metadata": {},
   "source": [
    "## 3.Создайте аналогичный vacancy DataFrame только добавьте поле skills"
   ]
  },
  {
   "cell_type": "code",
   "execution_count": 71,
   "metadata": {},
   "outputs": [
    {
     "data": {
      "text/html": [
       "<div>\n",
       "<style scoped>\n",
       "    .dataframe tbody tr th:only-of-type {\n",
       "        vertical-align: middle;\n",
       "    }\n",
       "\n",
       "    .dataframe tbody tr th {\n",
       "        vertical-align: top;\n",
       "    }\n",
       "\n",
       "    .dataframe thead th {\n",
       "        text-align: right;\n",
       "    }\n",
       "</style>\n",
       "<table border=\"1\" class=\"dataframe\">\n",
       "  <thead>\n",
       "    <tr style=\"text-align: right;\">\n",
       "      <th></th>\n",
       "      <th>id</th>\n",
       "      <th>name</th>\n",
       "      <th>published_at</th>\n",
       "      <th>description</th>\n",
       "      <th>key_skills</th>\n",
       "    </tr>\n",
       "  </thead>\n",
       "  <tbody>\n",
       "    <tr>\n",
       "      <th>0</th>\n",
       "      <td>54162408</td>\n",
       "      <td>Стажёр по направлению \"Data Engineering\" от SB...</td>\n",
       "      <td>2022-03-21T16:08:01+0300</td>\n",
       "      <td>&lt;p&gt;Современный стек разработки, передовые техн...</td>\n",
       "      <td>Python,SQL,СУБД,MS Excel,Git,Анализ данных</td>\n",
       "    </tr>\n",
       "    <tr>\n",
       "      <th>1</th>\n",
       "      <td>53568652</td>\n",
       "      <td>Менеджер по обслуживанию</td>\n",
       "      <td>2022-03-09T13:38:12+0300</td>\n",
       "      <td>&lt;p&gt;Сбер — лучший работодатель России. У нас бо...</td>\n",
       "      <td></td>\n",
       "    </tr>\n",
       "    <tr>\n",
       "      <th>2</th>\n",
       "      <td>46380141</td>\n",
       "      <td>Менеджер по работе с клиентами</td>\n",
       "      <td>2022-03-18T14:30:24+0300</td>\n",
       "      <td>&lt;p&gt;Сбер — лучший работодатель России. У нас бо...</td>\n",
       "      <td>Активные продажи,Поиск и привлечение клиентов</td>\n",
       "    </tr>\n",
       "  </tbody>\n",
       "</table>\n",
       "</div>"
      ],
      "text/plain": [
       "         id                                               name  \\\n",
       "0  54162408  Стажёр по направлению \"Data Engineering\" от SB...   \n",
       "1  53568652                           Менеджер по обслуживанию   \n",
       "2  46380141                     Менеджер по работе с клиентами   \n",
       "\n",
       "               published_at  \\\n",
       "0  2022-03-21T16:08:01+0300   \n",
       "1  2022-03-09T13:38:12+0300   \n",
       "2  2022-03-18T14:30:24+0300   \n",
       "\n",
       "                                         description  \\\n",
       "0  <p>Современный стек разработки, передовые техн...   \n",
       "1  <p>Сбер — лучший работодатель России. У нас бо...   \n",
       "2  <p>Сбер — лучший работодатель России. У нас бо...   \n",
       "\n",
       "                                      key_skills  \n",
       "0     Python,SQL,СУБД,MS Excel,Git,Анализ данных  \n",
       "1                                                 \n",
       "2  Активные продажи,Поиск и привлечение клиентов  "
      ]
     },
     "execution_count": 71,
     "metadata": {},
     "output_type": "execute_result"
    }
   ],
   "source": [
    "df_2 = df_1.copy()\n",
    "df_2.head(3)"
   ]
  },
  {
   "cell_type": "code",
   "execution_count": 73,
   "metadata": {},
   "outputs": [
    {
     "data": {
      "text/plain": [
       "Index(['id', 'name', 'published_at', 'description', 'key_skills'], dtype='object')"
      ]
     },
     "execution_count": 73,
     "metadata": {},
     "output_type": "execute_result"
    }
   ],
   "source": [
    "df_2.columns"
   ]
  },
  {
   "cell_type": "code",
   "execution_count": 76,
   "metadata": {},
   "outputs": [
    {
     "data": {
      "text/html": [
       "<div>\n",
       "<style scoped>\n",
       "    .dataframe tbody tr th:only-of-type {\n",
       "        vertical-align: middle;\n",
       "    }\n",
       "\n",
       "    .dataframe tbody tr th {\n",
       "        vertical-align: top;\n",
       "    }\n",
       "\n",
       "    .dataframe thead th {\n",
       "        text-align: right;\n",
       "    }\n",
       "</style>\n",
       "<table border=\"1\" class=\"dataframe\">\n",
       "  <thead>\n",
       "    <tr style=\"text-align: right;\">\n",
       "      <th></th>\n",
       "      <th>id</th>\n",
       "      <th>name</th>\n",
       "      <th>published_at</th>\n",
       "      <th>description</th>\n",
       "      <th>key_skills</th>\n",
       "      <th>skills</th>\n",
       "    </tr>\n",
       "  </thead>\n",
       "  <tbody>\n",
       "    <tr>\n",
       "      <th>0</th>\n",
       "      <td>54162408</td>\n",
       "      <td>Стажёр по направлению \"Data Engineering\" от SB...</td>\n",
       "      <td>2022-03-21T16:08:01+0300</td>\n",
       "      <td>&lt;p&gt;Современный стек разработки, передовые техн...</td>\n",
       "      <td>Python,SQL,СУБД,MS Excel,Git,Анализ данных</td>\n",
       "      <td>Python,SQL,СУБД,MS Excel,Git,Анализ данных</td>\n",
       "    </tr>\n",
       "    <tr>\n",
       "      <th>2</th>\n",
       "      <td>46380141</td>\n",
       "      <td>Менеджер по работе с клиентами</td>\n",
       "      <td>2022-03-18T14:30:24+0300</td>\n",
       "      <td>&lt;p&gt;Сбер — лучший работодатель России. У нас бо...</td>\n",
       "      <td>Активные продажи,Поиск и привлечение клиентов</td>\n",
       "      <td>Активные продажи,Поиск и привлечение клиентов</td>\n",
       "    </tr>\n",
       "    <tr>\n",
       "      <th>3</th>\n",
       "      <td>54324115</td>\n",
       "      <td>Junior Python разработчик</td>\n",
       "      <td>2022-03-25T15:08:14+0300</td>\n",
       "      <td>&lt;p&gt;Проект представляет собой систему для выгру...</td>\n",
       "      <td>Python,Docker,Redis,Django Framework,NLP</td>\n",
       "      <td>Python,Docker,Redis,Django Framework,NLP</td>\n",
       "    </tr>\n",
       "  </tbody>\n",
       "</table>\n",
       "</div>"
      ],
      "text/plain": [
       "         id                                               name  \\\n",
       "0  54162408  Стажёр по направлению \"Data Engineering\" от SB...   \n",
       "2  46380141                     Менеджер по работе с клиентами   \n",
       "3  54324115                          Junior Python разработчик   \n",
       "\n",
       "               published_at  \\\n",
       "0  2022-03-21T16:08:01+0300   \n",
       "2  2022-03-18T14:30:24+0300   \n",
       "3  2022-03-25T15:08:14+0300   \n",
       "\n",
       "                                         description  \\\n",
       "0  <p>Современный стек разработки, передовые техн...   \n",
       "2  <p>Сбер — лучший работодатель России. У нас бо...   \n",
       "3  <p>Проект представляет собой систему для выгру...   \n",
       "\n",
       "                                      key_skills  \\\n",
       "0     Python,SQL,СУБД,MS Excel,Git,Анализ данных   \n",
       "2  Активные продажи,Поиск и привлечение клиентов   \n",
       "3       Python,Docker,Redis,Django Framework,NLP   \n",
       "\n",
       "                                          skills  \n",
       "0     Python,SQL,СУБД,MS Excel,Git,Анализ данных  \n",
       "2  Активные продажи,Поиск и привлечение клиентов  \n",
       "3       Python,Docker,Redis,Django Framework,NLP  "
      ]
     },
     "execution_count": 76,
     "metadata": {},
     "output_type": "execute_result"
    }
   ],
   "source": [
    "df_2[\"skills\"] = df_2['key_skills']\n",
    "df_2.columns\n",
    "df_2['skills'].replace('', np.nan, inplace=True)\n",
    "df_2 = df_2[~df_2['skills'].isnull()]\n",
    "df_2.head(3)"
   ]
  },
  {
   "cell_type": "markdown",
   "metadata": {},
   "source": [
    "## 4.Переведите даты публикаций в datetime"
   ]
  },
  {
   "cell_type": "code",
   "execution_count": 79,
   "metadata": {},
   "outputs": [
    {
     "name": "stdout",
     "output_type": "stream",
     "text": [
      "<class 'pandas.core.frame.DataFrame'>\n",
      "RangeIndex: 978 entries, 0 to 977\n",
      "Data columns (total 5 columns):\n",
      " #   Column        Non-Null Count  Dtype                                \n",
      "---  ------        --------------  -----                                \n",
      " 0   id            978 non-null    object                               \n",
      " 1   name          978 non-null    object                               \n",
      " 2   published_at  978 non-null    datetime64[ns, pytz.FixedOffset(180)]\n",
      " 3   description   978 non-null    object                               \n",
      " 4   key_skills    978 non-null    object                               \n",
      "dtypes: datetime64[ns, pytz.FixedOffset(180)](1), object(4)\n",
      "memory usage: 38.3+ KB\n"
     ]
    }
   ],
   "source": [
    "df_1.published_at = pd.to_datetime(df_1.published_at)\n",
    "df_1.info()"
   ]
  },
  {
   "cell_type": "markdown",
   "metadata": {},
   "source": [
    "## 5.Постройте график опубликованных вакансий по датам"
   ]
  },
  {
   "cell_type": "code",
   "execution_count": 81,
   "metadata": {},
   "outputs": [
    {
     "data": {
      "text/html": [
       "<div>\n",
       "<style scoped>\n",
       "    .dataframe tbody tr th:only-of-type {\n",
       "        vertical-align: middle;\n",
       "    }\n",
       "\n",
       "    .dataframe tbody tr th {\n",
       "        vertical-align: top;\n",
       "    }\n",
       "\n",
       "    .dataframe thead th {\n",
       "        text-align: right;\n",
       "    }\n",
       "</style>\n",
       "<table border=\"1\" class=\"dataframe\">\n",
       "  <thead>\n",
       "    <tr style=\"text-align: right;\">\n",
       "      <th></th>\n",
       "      <th>id</th>\n",
       "      <th>name</th>\n",
       "      <th>published_at</th>\n",
       "      <th>description</th>\n",
       "      <th>key_skills</th>\n",
       "    </tr>\n",
       "  </thead>\n",
       "  <tbody>\n",
       "    <tr>\n",
       "      <th>0</th>\n",
       "      <td>54162408</td>\n",
       "      <td>Стажёр по направлению \"Data Engineering\" от SB...</td>\n",
       "      <td>2022-03-21 16:08:01+03:00</td>\n",
       "      <td>&lt;p&gt;Современный стек разработки, передовые техн...</td>\n",
       "      <td>Python,SQL,СУБД,MS Excel,Git,Анализ данных</td>\n",
       "    </tr>\n",
       "    <tr>\n",
       "      <th>1</th>\n",
       "      <td>53568652</td>\n",
       "      <td>Менеджер по обслуживанию</td>\n",
       "      <td>2022-03-09 13:38:12+03:00</td>\n",
       "      <td>&lt;p&gt;Сбер — лучший работодатель России. У нас бо...</td>\n",
       "      <td></td>\n",
       "    </tr>\n",
       "    <tr>\n",
       "      <th>2</th>\n",
       "      <td>46380141</td>\n",
       "      <td>Менеджер по работе с клиентами</td>\n",
       "      <td>2022-03-18 14:30:24+03:00</td>\n",
       "      <td>&lt;p&gt;Сбер — лучший работодатель России. У нас бо...</td>\n",
       "      <td>Активные продажи,Поиск и привлечение клиентов</td>\n",
       "    </tr>\n",
       "    <tr>\n",
       "      <th>3</th>\n",
       "      <td>54324115</td>\n",
       "      <td>Junior Python разработчик</td>\n",
       "      <td>2022-03-25 15:08:14+03:00</td>\n",
       "      <td>&lt;p&gt;Проект представляет собой систему для выгру...</td>\n",
       "      <td>Python,Docker,Redis,Django Framework,NLP</td>\n",
       "    </tr>\n",
       "    <tr>\n",
       "      <th>4</th>\n",
       "      <td>52849639</td>\n",
       "      <td>Финансовый консультант</td>\n",
       "      <td>2022-03-23 19:41:59+03:00</td>\n",
       "      <td>&lt;p&gt;Сбер — лучший работодатель России. У нас бо...</td>\n",
       "      <td></td>\n",
       "    </tr>\n",
       "  </tbody>\n",
       "</table>\n",
       "</div>"
      ],
      "text/plain": [
       "         id                                               name  \\\n",
       "0  54162408  Стажёр по направлению \"Data Engineering\" от SB...   \n",
       "1  53568652                           Менеджер по обслуживанию   \n",
       "2  46380141                     Менеджер по работе с клиентами   \n",
       "3  54324115                          Junior Python разработчик   \n",
       "4  52849639                             Финансовый консультант   \n",
       "\n",
       "               published_at  \\\n",
       "0 2022-03-21 16:08:01+03:00   \n",
       "1 2022-03-09 13:38:12+03:00   \n",
       "2 2022-03-18 14:30:24+03:00   \n",
       "3 2022-03-25 15:08:14+03:00   \n",
       "4 2022-03-23 19:41:59+03:00   \n",
       "\n",
       "                                         description  \\\n",
       "0  <p>Современный стек разработки, передовые техн...   \n",
       "1  <p>Сбер — лучший работодатель России. У нас бо...   \n",
       "2  <p>Сбер — лучший работодатель России. У нас бо...   \n",
       "3  <p>Проект представляет собой систему для выгру...   \n",
       "4  <p>Сбер — лучший работодатель России. У нас бо...   \n",
       "\n",
       "                                      key_skills  \n",
       "0     Python,SQL,СУБД,MS Excel,Git,Анализ данных  \n",
       "1                                                 \n",
       "2  Активные продажи,Поиск и привлечение клиентов  \n",
       "3       Python,Docker,Redis,Django Framework,NLP  \n",
       "4                                                 "
      ]
     },
     "execution_count": 81,
     "metadata": {},
     "output_type": "execute_result"
    }
   ],
   "source": [
    "df_1.head(5)"
   ]
  },
  {
   "cell_type": "code",
   "execution_count": 82,
   "metadata": {},
   "outputs": [
    {
     "data": {
      "text/html": [
       "<div>\n",
       "<style scoped>\n",
       "    .dataframe tbody tr th:only-of-type {\n",
       "        vertical-align: middle;\n",
       "    }\n",
       "\n",
       "    .dataframe tbody tr th {\n",
       "        vertical-align: top;\n",
       "    }\n",
       "\n",
       "    .dataframe thead th {\n",
       "        text-align: right;\n",
       "    }\n",
       "</style>\n",
       "<table border=\"1\" class=\"dataframe\">\n",
       "  <thead>\n",
       "    <tr style=\"text-align: right;\">\n",
       "      <th></th>\n",
       "      <th>id</th>\n",
       "      <th>name</th>\n",
       "      <th>published_at</th>\n",
       "      <th>description</th>\n",
       "      <th>key_skills</th>\n",
       "      <th>vacdate</th>\n",
       "    </tr>\n",
       "  </thead>\n",
       "  <tbody>\n",
       "    <tr>\n",
       "      <th>0</th>\n",
       "      <td>54162408</td>\n",
       "      <td>Стажёр по направлению \"Data Engineering\" от SB...</td>\n",
       "      <td>2022-03-21 16:08:01+03:00</td>\n",
       "      <td>&lt;p&gt;Современный стек разработки, передовые техн...</td>\n",
       "      <td>Python,SQL,СУБД,MS Excel,Git,Анализ данных</td>\n",
       "      <td>2022-03-21</td>\n",
       "    </tr>\n",
       "    <tr>\n",
       "      <th>1</th>\n",
       "      <td>53568652</td>\n",
       "      <td>Менеджер по обслуживанию</td>\n",
       "      <td>2022-03-09 13:38:12+03:00</td>\n",
       "      <td>&lt;p&gt;Сбер — лучший работодатель России. У нас бо...</td>\n",
       "      <td></td>\n",
       "      <td>2022-03-09</td>\n",
       "    </tr>\n",
       "    <tr>\n",
       "      <th>2</th>\n",
       "      <td>46380141</td>\n",
       "      <td>Менеджер по работе с клиентами</td>\n",
       "      <td>2022-03-18 14:30:24+03:00</td>\n",
       "      <td>&lt;p&gt;Сбер — лучший работодатель России. У нас бо...</td>\n",
       "      <td>Активные продажи,Поиск и привлечение клиентов</td>\n",
       "      <td>2022-03-18</td>\n",
       "    </tr>\n",
       "    <tr>\n",
       "      <th>3</th>\n",
       "      <td>54324115</td>\n",
       "      <td>Junior Python разработчик</td>\n",
       "      <td>2022-03-25 15:08:14+03:00</td>\n",
       "      <td>&lt;p&gt;Проект представляет собой систему для выгру...</td>\n",
       "      <td>Python,Docker,Redis,Django Framework,NLP</td>\n",
       "      <td>2022-03-25</td>\n",
       "    </tr>\n",
       "    <tr>\n",
       "      <th>4</th>\n",
       "      <td>52849639</td>\n",
       "      <td>Финансовый консультант</td>\n",
       "      <td>2022-03-23 19:41:59+03:00</td>\n",
       "      <td>&lt;p&gt;Сбер — лучший работодатель России. У нас бо...</td>\n",
       "      <td></td>\n",
       "      <td>2022-03-23</td>\n",
       "    </tr>\n",
       "  </tbody>\n",
       "</table>\n",
       "</div>"
      ],
      "text/plain": [
       "         id                                               name  \\\n",
       "0  54162408  Стажёр по направлению \"Data Engineering\" от SB...   \n",
       "1  53568652                           Менеджер по обслуживанию   \n",
       "2  46380141                     Менеджер по работе с клиентами   \n",
       "3  54324115                          Junior Python разработчик   \n",
       "4  52849639                             Финансовый консультант   \n",
       "\n",
       "               published_at  \\\n",
       "0 2022-03-21 16:08:01+03:00   \n",
       "1 2022-03-09 13:38:12+03:00   \n",
       "2 2022-03-18 14:30:24+03:00   \n",
       "3 2022-03-25 15:08:14+03:00   \n",
       "4 2022-03-23 19:41:59+03:00   \n",
       "\n",
       "                                         description  \\\n",
       "0  <p>Современный стек разработки, передовые техн...   \n",
       "1  <p>Сбер — лучший работодатель России. У нас бо...   \n",
       "2  <p>Сбер — лучший работодатель России. У нас бо...   \n",
       "3  <p>Проект представляет собой систему для выгру...   \n",
       "4  <p>Сбер — лучший работодатель России. У нас бо...   \n",
       "\n",
       "                                      key_skills     vacdate  \n",
       "0     Python,SQL,СУБД,MS Excel,Git,Анализ данных  2022-03-21  \n",
       "1                                                 2022-03-09  \n",
       "2  Активные продажи,Поиск и привлечение клиентов  2022-03-18  \n",
       "3       Python,Docker,Redis,Django Framework,NLP  2022-03-25  \n",
       "4                                                 2022-03-23  "
      ]
     },
     "execution_count": 82,
     "metadata": {},
     "output_type": "execute_result"
    }
   ],
   "source": [
    "df_1['vacdate'] = df_1['published_at']\n",
    "df_1['vacdate'] = pd.to_datetime(df_1['vacdate']).dt.date\n",
    "df_1.head(5)"
   ]
  },
  {
   "cell_type": "code",
   "execution_count": 83,
   "metadata": {},
   "outputs": [
    {
     "data": {
      "text/plain": [
       "vacdate\n",
       "2022-03-15    103\n",
       "2022-02-28     82\n",
       "2022-03-18     79\n",
       "2022-03-09     74\n",
       "2022-03-21     72\n",
       "Name: id, dtype: int64"
      ]
     },
     "execution_count": 83,
     "metadata": {},
     "output_type": "execute_result"
    }
   ],
   "source": [
    "vacs_stat = df_1.groupby('vacdate')['id'].count().sort_values(ascending=False)\n",
    "vacs_stat.head()"
   ]
  },
  {
   "cell_type": "code",
   "execution_count": 85,
   "metadata": {},
   "outputs": [
    {
     "data": {
      "image/png": "[encoded data removed]",
      "text/plain": [
       "<Figure size 720x720 with 1 Axes>"
      ]
     },
     "metadata": {
      "needs_background": "light"
     },
     "output_type": "display_data"
    }
   ],
   "source": [
    "rcParams['figure.figsize'] = 10,10\n",
    "vacs_stat.plot(kind='barh')\n",
    "plt.show()"
   ]
  },
  {
   "cell_type": "markdown",
   "metadata": {},
   "source": [
    "## 6.Переведите даты в дни недели, и определите день недели, в который больше всего публикуют вакансий"
   ]
  },
  {
   "cell_type": "code",
   "execution_count": 91,
   "metadata": {},
   "outputs": [
    {
     "name": "stdout",
     "output_type": "stream",
     "text": [
      "<class 'pandas.core.frame.DataFrame'>\n",
      "RangeIndex: 978 entries, 0 to 977\n",
      "Data columns (total 7 columns):\n",
      " #   Column        Non-Null Count  Dtype                                \n",
      "---  ------        --------------  -----                                \n",
      " 0   id            978 non-null    object                               \n",
      " 1   name          978 non-null    object                               \n",
      " 2   published_at  978 non-null    datetime64[ns, pytz.FixedOffset(180)]\n",
      " 3   description   978 non-null    object                               \n",
      " 4   key_skills    978 non-null    object                               \n",
      " 5   vacdate       978 non-null    object                               \n",
      " 6   weekday_num   978 non-null    datetime64[ns, pytz.FixedOffset(180)]\n",
      "dtypes: datetime64[ns, pytz.FixedOffset(180)](2), object(5)\n",
      "memory usage: 53.6+ KB\n"
     ]
    }
   ],
   "source": [
    "df_1['weekday_num'] = df_1['published_at']\n",
    "df_1.weekday_num = pd.to_datetime(df_1.weekday_num)\n",
    "df_1.info()"
   ]
  },
  {
   "cell_type": "code",
   "execution_count": 92,
   "metadata": {},
   "outputs": [],
   "source": [
    "df_1['weekday_num'] = df_1['weekday_num'].dt.day_name()"
   ]
  },
  {
   "cell_type": "code",
   "execution_count": 93,
   "metadata": {},
   "outputs": [
    {
     "data": {
      "text/html": [
       "<div>\n",
       "<style scoped>\n",
       "    .dataframe tbody tr th:only-of-type {\n",
       "        vertical-align: middle;\n",
       "    }\n",
       "\n",
       "    .dataframe tbody tr th {\n",
       "        vertical-align: top;\n",
       "    }\n",
       "\n",
       "    .dataframe thead th {\n",
       "        text-align: right;\n",
       "    }\n",
       "</style>\n",
       "<table border=\"1\" class=\"dataframe\">\n",
       "  <thead>\n",
       "    <tr style=\"text-align: right;\">\n",
       "      <th></th>\n",
       "      <th>weekday_num</th>\n",
       "      <th>id</th>\n",
       "    </tr>\n",
       "  </thead>\n",
       "  <tbody>\n",
       "    <tr>\n",
       "      <th>0</th>\n",
       "      <td>Wednesday</td>\n",
       "      <td>216</td>\n",
       "    </tr>\n",
       "    <tr>\n",
       "      <th>1</th>\n",
       "      <td>Monday</td>\n",
       "      <td>208</td>\n",
       "    </tr>\n",
       "    <tr>\n",
       "      <th>2</th>\n",
       "      <td>Tuesday</td>\n",
       "      <td>179</td>\n",
       "    </tr>\n",
       "    <tr>\n",
       "      <th>3</th>\n",
       "      <td>Friday</td>\n",
       "      <td>175</td>\n",
       "    </tr>\n",
       "    <tr>\n",
       "      <th>4</th>\n",
       "      <td>Thursday</td>\n",
       "      <td>158</td>\n",
       "    </tr>\n",
       "    <tr>\n",
       "      <th>5</th>\n",
       "      <td>Saturday</td>\n",
       "      <td>35</td>\n",
       "    </tr>\n",
       "    <tr>\n",
       "      <th>6</th>\n",
       "      <td>Sunday</td>\n",
       "      <td>7</td>\n",
       "    </tr>\n",
       "  </tbody>\n",
       "</table>\n",
       "</div>"
      ],
      "text/plain": [
       "  weekday_num   id\n",
       "0   Wednesday  216\n",
       "1      Monday  208\n",
       "2     Tuesday  179\n",
       "3      Friday  175\n",
       "4    Thursday  158\n",
       "5    Saturday   35\n",
       "6      Sunday    7"
      ]
     },
     "execution_count": 93,
     "metadata": {},
     "output_type": "execute_result"
    }
   ],
   "source": [
    "df_1.groupby('weekday_num')['id'].count().sort_values(ascending=False).reset_index()"
   ]
  },
  {
   "cell_type": "markdown",
   "metadata": {},
   "source": [
    "## 7.Найдите те вакансии с использованием python, которые вам интересны"
   ]
  },
  {
   "cell_type": "code",
   "execution_count": 94,
   "metadata": {},
   "outputs": [
    {
     "data": {
      "text/plain": [
       "1"
      ]
     },
     "execution_count": 94,
     "metadata": {},
     "output_type": "execute_result"
    }
   ],
   "source": [
    "nice1 = df_1.name.str.lower().str.contains('data analyst')\n",
    "nice2 = df_1.key_skills.str.lower().str.contains('python')\n",
    "a = df_1[nice1 & nice2].count()\n",
    "a.id"
   ]
  },
  {
   "cell_type": "markdown",
   "metadata": {},
   "source": [
    "## 8.Определите по полю skills какие навыки больше всего востребованы для этих вакансий"
   ]
  },
  {
   "cell_type": "code",
   "execution_count": 95,
   "metadata": {},
   "outputs": [
    {
     "data": {
      "text/html": [
       "<div>\n",
       "<style scoped>\n",
       "    .dataframe tbody tr th:only-of-type {\n",
       "        vertical-align: middle;\n",
       "    }\n",
       "\n",
       "    .dataframe tbody tr th {\n",
       "        vertical-align: top;\n",
       "    }\n",
       "\n",
       "    .dataframe thead th {\n",
       "        text-align: right;\n",
       "    }\n",
       "</style>\n",
       "<table border=\"1\" class=\"dataframe\">\n",
       "  <thead>\n",
       "    <tr style=\"text-align: right;\">\n",
       "      <th></th>\n",
       "      <th>id</th>\n",
       "      <th>name</th>\n",
       "      <th>published_at</th>\n",
       "      <th>description</th>\n",
       "      <th>key_skills</th>\n",
       "      <th>skills</th>\n",
       "    </tr>\n",
       "  </thead>\n",
       "  <tbody>\n",
       "    <tr>\n",
       "      <th>0</th>\n",
       "      <td>54162408</td>\n",
       "      <td>Стажёр по направлению \"Data Engineering\" от SB...</td>\n",
       "      <td>2022-03-21T16:08:01+0300</td>\n",
       "      <td>&lt;p&gt;Современный стек разработки, передовые техн...</td>\n",
       "      <td>Python,SQL,СУБД,MS Excel,Git,Анализ данных</td>\n",
       "      <td>Python,SQL,СУБД,MS Excel,Git,Анализ данных</td>\n",
       "    </tr>\n",
       "    <tr>\n",
       "      <th>2</th>\n",
       "      <td>46380141</td>\n",
       "      <td>Менеджер по работе с клиентами</td>\n",
       "      <td>2022-03-18T14:30:24+0300</td>\n",
       "      <td>&lt;p&gt;Сбер — лучший работодатель России. У нас бо...</td>\n",
       "      <td>Активные продажи,Поиск и привлечение клиентов</td>\n",
       "      <td>Активные продажи,Поиск и привлечение клиентов</td>\n",
       "    </tr>\n",
       "    <tr>\n",
       "      <th>3</th>\n",
       "      <td>54324115</td>\n",
       "      <td>Junior Python разработчик</td>\n",
       "      <td>2022-03-25T15:08:14+0300</td>\n",
       "      <td>&lt;p&gt;Проект представляет собой систему для выгру...</td>\n",
       "      <td>Python,Docker,Redis,Django Framework,NLP</td>\n",
       "      <td>Python,Docker,Redis,Django Framework,NLP</td>\n",
       "    </tr>\n",
       "  </tbody>\n",
       "</table>\n",
       "</div>"
      ],
      "text/plain": [
       "         id                                               name  \\\n",
       "0  54162408  Стажёр по направлению \"Data Engineering\" от SB...   \n",
       "2  46380141                     Менеджер по работе с клиентами   \n",
       "3  54324115                          Junior Python разработчик   \n",
       "\n",
       "               published_at  \\\n",
       "0  2022-03-21T16:08:01+0300   \n",
       "2  2022-03-18T14:30:24+0300   \n",
       "3  2022-03-25T15:08:14+0300   \n",
       "\n",
       "                                         description  \\\n",
       "0  <p>Современный стек разработки, передовые техн...   \n",
       "2  <p>Сбер — лучший работодатель России. У нас бо...   \n",
       "3  <p>Проект представляет собой систему для выгру...   \n",
       "\n",
       "                                      key_skills  \\\n",
       "0     Python,SQL,СУБД,MS Excel,Git,Анализ данных   \n",
       "2  Активные продажи,Поиск и привлечение клиентов   \n",
       "3       Python,Docker,Redis,Django Framework,NLP   \n",
       "\n",
       "                                          skills  \n",
       "0     Python,SQL,СУБД,MS Excel,Git,Анализ данных  \n",
       "2  Активные продажи,Поиск и привлечение клиентов  \n",
       "3       Python,Docker,Redis,Django Framework,NLP  "
      ]
     },
     "execution_count": 95,
     "metadata": {},
     "output_type": "execute_result"
    }
   ],
   "source": [
    "df_2.head(3)"
   ]
  },
  {
   "cell_type": "code",
   "execution_count": 96,
   "metadata": {},
   "outputs": [
    {
     "data": {
      "text/html": [
       "<div>\n",
       "<style scoped>\n",
       "    .dataframe tbody tr th:only-of-type {\n",
       "        vertical-align: middle;\n",
       "    }\n",
       "\n",
       "    .dataframe tbody tr th {\n",
       "        vertical-align: top;\n",
       "    }\n",
       "\n",
       "    .dataframe thead th {\n",
       "        text-align: right;\n",
       "    }\n",
       "</style>\n",
       "<table border=\"1\" class=\"dataframe\">\n",
       "  <thead>\n",
       "    <tr style=\"text-align: right;\">\n",
       "      <th></th>\n",
       "      <th>id</th>\n",
       "      <th>name</th>\n",
       "      <th>published_at</th>\n",
       "      <th>description</th>\n",
       "      <th>key_skills</th>\n",
       "      <th>skills</th>\n",
       "    </tr>\n",
       "  </thead>\n",
       "  <tbody>\n",
       "    <tr>\n",
       "      <th>0</th>\n",
       "      <td>54162408</td>\n",
       "      <td>Стажёр по направлению \"Data Engineering\" от SB...</td>\n",
       "      <td>2022-03-21T16:08:01+0300</td>\n",
       "      <td>&lt;p&gt;Современный стек разработки, передовые техн...</td>\n",
       "      <td>Python,SQL,СУБД,MS Excel,Git,Анализ данных</td>\n",
       "      <td>Python,SQL,СУБД,MS Excel,Git,Анализ данных</td>\n",
       "    </tr>\n",
       "    <tr>\n",
       "      <th>2</th>\n",
       "      <td>46380141</td>\n",
       "      <td>Менеджер по работе с клиентами</td>\n",
       "      <td>2022-03-18T14:30:24+0300</td>\n",
       "      <td>&lt;p&gt;Сбер — лучший работодатель России. У нас бо...</td>\n",
       "      <td>Активные продажи,Поиск и привлечение клиентов</td>\n",
       "      <td>Активные продажи,Поиск и привлечение клиентов</td>\n",
       "    </tr>\n",
       "    <tr>\n",
       "      <th>3</th>\n",
       "      <td>54324115</td>\n",
       "      <td>Junior Python разработчик</td>\n",
       "      <td>2022-03-25T15:08:14+0300</td>\n",
       "      <td>&lt;p&gt;Проект представляет собой систему для выгру...</td>\n",
       "      <td>Python,Docker,Redis,Django Framework,NLP</td>\n",
       "      <td>Python,Docker,Redis,Django Framework,NLP</td>\n",
       "    </tr>\n",
       "  </tbody>\n",
       "</table>\n",
       "</div>"
      ],
      "text/plain": [
       "         id                                               name  \\\n",
       "0  54162408  Стажёр по направлению \"Data Engineering\" от SB...   \n",
       "2  46380141                     Менеджер по работе с клиентами   \n",
       "3  54324115                          Junior Python разработчик   \n",
       "\n",
       "               published_at  \\\n",
       "0  2022-03-21T16:08:01+0300   \n",
       "2  2022-03-18T14:30:24+0300   \n",
       "3  2022-03-25T15:08:14+0300   \n",
       "\n",
       "                                         description  \\\n",
       "0  <p>Современный стек разработки, передовые техн...   \n",
       "2  <p>Сбер — лучший работодатель России. У нас бо...   \n",
       "3  <p>Проект представляет собой систему для выгру...   \n",
       "\n",
       "                                      key_skills  \\\n",
       "0     Python,SQL,СУБД,MS Excel,Git,Анализ данных   \n",
       "2  Активные продажи,Поиск и привлечение клиентов   \n",
       "3       Python,Docker,Redis,Django Framework,NLP   \n",
       "\n",
       "                                          skills  \n",
       "0     Python,SQL,СУБД,MS Excel,Git,Анализ данных  \n",
       "2  Активные продажи,Поиск и привлечение клиентов  \n",
       "3       Python,Docker,Redis,Django Framework,NLP  "
      ]
     },
     "execution_count": 96,
     "metadata": {},
     "output_type": "execute_result"
    }
   ],
   "source": [
    "df_3 = df_2.copy()\n",
    "df_3.head(3)"
   ]
  },
  {
   "cell_type": "code",
   "execution_count": 97,
   "metadata": {},
   "outputs": [
    {
     "data": {
      "text/plain": [
       "skills\n",
       "Java                                                     2\n",
       "Docker,Jenkins,Linux,Atlassian Jira,Git                  2\n",
       "Python,Linux,Atlassian Jira,Atlassian Confluence,Bash    2\n",
       "Swift,UIKit,iOS,REST                                     2\n",
       "Депозитарий,Депозитарный учет,Ценные бумаги              2\n",
       "SQL,Atlassian Jira,Kafka,PostgreSQL,Java                 2\n",
       "JavaScript,Redux,React,Node.js                           2\n",
       "React,JavaScript,TypeScript,CSS,Team management,SPA      2\n",
       "Linux,SQL                                                2\n",
       "Linux                                                    2\n",
       "Name: id, dtype: int64"
      ]
     },
     "execution_count": 97,
     "metadata": {},
     "output_type": "execute_result"
    }
   ],
   "source": [
    "not_true = df_3.groupby('skills')['id'].count().sort_values(ascending=False).head(10)\n",
    "not_true"
   ]
  },
  {
   "cell_type": "markdown",
   "metadata": {},
   "source": [
    "## 9.Постройте график наиболее востребованных вакансий"
   ]
  },
  {
   "cell_type": "code",
   "execution_count": 98,
   "metadata": {},
   "outputs": [
    {
     "data": {
      "image/png": "[encoded data removed]",
      "text/plain": [
       "<Figure size 720x720 with 1 Axes>"
      ]
     },
     "metadata": {
      "needs_background": "light"
     },
     "output_type": "display_data"
    }
   ],
   "source": [
    "cool_vac = df_1.groupby('name')['id'].count().sort_values(ascending=False).head(10)\n",
    "cool_vac\n",
    "cool_vac.sort_values(ascending=True).plot(kind='barh')\n",
    "plt.show()"
   ]
  },
  {
   "cell_type": "code",
   "execution_count": null,
   "metadata": {},
   "outputs": [],
   "source": []
  }
 ],
 "metadata": {
  "kernelspec": {
   "display_name": "Python 3",
   "language": "python",
   "name": "python3"
  },
  "language_info": {
   "codemirror_mode": {
    "name": "ipython",
    "version": 3
   },
   "file_extension": ".py",
   "mimetype": "text/x-python",
   "name": "python",
   "nbconvert_exporter": "python",
   "pygments_lexer": "ipython3",
   "version": "3.8.8"
  }
 },
 "nbformat": 4,
 "nbformat_minor": 4
}
